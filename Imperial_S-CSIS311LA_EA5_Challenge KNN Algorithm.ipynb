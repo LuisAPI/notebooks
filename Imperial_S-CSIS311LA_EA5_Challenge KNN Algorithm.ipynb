{
 "cells": [
  {
   "cell_type": "markdown",
   "id": "7dbf3f83-8dcb-466b-9720-254dc4996bee",
   "metadata": {
    "id": "7dbf3f83-8dcb-466b-9720-254dc4996bee"
   },
   "source": [
    "*De La Salle University – Dasmariñas*  \n",
    "***COLLEGE OF INFORMATION AND COMPUTER STUDIES***  \n",
    "*COMPUTER SCIENCE DEPARTMENT*\n",
    "\n",
    "**Activity:** KNN Algorithm  \n",
    "**Objectives:** To understand and implement KNN algorithm for classification  \n",
    "**Dataset:**\n",
    "- Download Iris dataset (UCI Machine Learning Repository)\n",
    "- https://archive.ics.uci.edu/\n",
    "\n",
    "### What to do:\n",
    "- Data collection\n",
    "- Data pre processing\n",
    "- Data visualization\n",
    "- Train Test split\n",
    "- Implement KNN Algorithm\n",
    "- Prediction\n",
    "- Model evaluation\n",
    "- Experiment with k values. K= 5, 10, 15, 20, 25\n",
    "- Interpretation, observation, results and discussion\n",
    "\n",
    "Submit a copy file in .ipynb format and pdf file"
   ]
  },
  {
   "cell_type": "markdown",
   "id": "95222fc3",
   "metadata": {
    "id": "95222fc3"
   },
   "source": [
    "## Data Collection: Importing the Iris dataset"
   ]
  },
  {
   "cell_type": "code",
   "execution_count": 2,
   "id": "1e2f7b0e-7398-4cb2-81cf-b119a0e27a12",
   "metadata": {
    "executionInfo": {
     "elapsed": 4497,
     "status": "ok",
     "timestamp": 1728219969866,
     "user": {
      "displayName": "Luis Anton Imperial",
      "userId": "11563317455878916196"
     },
     "user_tz": -480
    },
    "id": "1e2f7b0e-7398-4cb2-81cf-b119a0e27a12"
   },
   "outputs": [],
   "source": [
    "from sklearn import datasets\n",
    "import pandas as pd\n",
    "\n",
    "# Load iris dataset\n",
    "iris = datasets.load_iris()\n",
    "\n",
    "# Since this is a bunch, create a dataframe\n",
    "iris_df = pd.DataFrame(iris.data)\n",
    "iris_df['class'] = iris.target\n",
    "\n",
    "iris_df.columns = ['sepal_len', 'sepal_wid', 'petal_len', 'petal_wid', 'class']\n",
    "iris_df.dropna(how=\"all\", inplace=True) # Remove any empty lines"
   ]
  },
  {
   "cell_type": "markdown",
   "id": "381f7cbc",
   "metadata": {
    "id": "381f7cbc"
   },
   "source": [
    "## Data Preprocessing: Defining the dependent variable"
   ]
  },
  {
   "cell_type": "code",
   "execution_count": 3,
   "id": "3d436e83-2fba-435a-a35c-0343a91a7edb",
   "metadata": {
    "executionInfo": {
     "elapsed": 23,
     "status": "ok",
     "timestamp": 1728219969868,
     "user": {
      "displayName": "Luis Anton Imperial",
      "userId": "11563317455878916196"
     },
     "user_tz": -480
    },
    "id": "3d436e83-2fba-435a-a35c-0343a91a7edb"
   },
   "outputs": [],
   "source": [
    "# Selecting only the first four columns as the independent (X) variable.\n",
    "# Any kind of feature selection or correlation analysis should be first done on these.\n",
    "iris_X = iris_df.iloc[:,[0,1,2,3]]\n",
    "iris_Y = iris_df.iloc[:,4]"
   ]
  },
  {
   "cell_type": "markdown",
   "id": "af5f46d0",
   "metadata": {
    "id": "af5f46d0"
   },
   "source": [
    "## Data Visualization: Presenting the Iris dataset"
   ]
  },
  {
   "cell_type": "markdown",
   "id": "13a46624",
   "metadata": {
    "id": "13a46624"
   },
   "source": [
    "### Presenting the data set as a table"
   ]
  },
  {
   "cell_type": "code",
   "execution_count": 4,
   "id": "b47f4c91",
   "metadata": {
    "colab": {
     "base_uri": "https://localhost:8080/",
     "height": 424
    },
    "executionInfo": {
     "elapsed": 17,
     "status": "ok",
     "timestamp": 1728219969868,
     "user": {
      "displayName": "Luis Anton Imperial",
      "userId": "11563317455878916196"
     },
     "user_tz": -480
    },
    "id": "b47f4c91",
    "outputId": "e2b03b8d-febc-435b-ac5d-05316fc64725"
   },
   "outputs": [
    {
     "data": {
      "application/vnd.google.colaboratory.intrinsic+json": {
       "summary": "{\n  \"name\": \"iris_df\",\n  \"rows\": 150,\n  \"fields\": [\n    {\n      \"column\": \"sepal_len\",\n      \"properties\": {\n        \"dtype\": \"number\",\n        \"std\": 0.8280661279778629,\n        \"min\": 4.3,\n        \"max\": 7.9,\n        \"num_unique_values\": 35,\n        \"samples\": [\n          6.2,\n          4.5,\n          5.6\n        ],\n        \"semantic_type\": \"\",\n        \"description\": \"\"\n      }\n    },\n    {\n      \"column\": \"sepal_wid\",\n      \"properties\": {\n        \"dtype\": \"number\",\n        \"std\": 0.435866284936698,\n        \"min\": 2.0,\n        \"max\": 4.4,\n        \"num_unique_values\": 23,\n        \"samples\": [\n          2.3,\n          4.0,\n          3.5\n        ],\n        \"semantic_type\": \"\",\n        \"description\": \"\"\n      }\n    },\n    {\n      \"column\": \"petal_len\",\n      \"properties\": {\n        \"dtype\": \"number\",\n        \"std\": 1.7652982332594667,\n        \"min\": 1.0,\n        \"max\": 6.9,\n        \"num_unique_values\": 43,\n        \"samples\": [\n          6.7,\n          3.8,\n          3.7\n        ],\n        \"semantic_type\": \"\",\n        \"description\": \"\"\n      }\n    },\n    {\n      \"column\": \"petal_wid\",\n      \"properties\": {\n        \"dtype\": \"number\",\n        \"std\": 0.7622376689603465,\n        \"min\": 0.1,\n        \"max\": 2.5,\n        \"num_unique_values\": 22,\n        \"samples\": [\n          0.2,\n          1.2,\n          1.3\n        ],\n        \"semantic_type\": \"\",\n        \"description\": \"\"\n      }\n    },\n    {\n      \"column\": \"class\",\n      \"properties\": {\n        \"dtype\": \"number\",\n        \"std\": 0,\n        \"min\": 0,\n        \"max\": 2,\n        \"num_unique_values\": 3,\n        \"samples\": [\n          0,\n          1,\n          2\n        ],\n        \"semantic_type\": \"\",\n        \"description\": \"\"\n      }\n    }\n  ]\n}",
       "type": "dataframe",
       "variable_name": "iris_df"
      },
      "text/html": [
       "\n",
       "  <div id=\"df-81b00eb5-f90c-456d-9cda-7d48c482447d\" class=\"colab-df-container\">\n",
       "    <div>\n",
       "<style scoped>\n",
       "    .dataframe tbody tr th:only-of-type {\n",
       "        vertical-align: middle;\n",
       "    }\n",
       "\n",
       "    .dataframe tbody tr th {\n",
       "        vertical-align: top;\n",
       "    }\n",
       "\n",
       "    .dataframe thead th {\n",
       "        text-align: right;\n",
       "    }\n",
       "</style>\n",
       "<table border=\"1\" class=\"dataframe\">\n",
       "  <thead>\n",
       "    <tr style=\"text-align: right;\">\n",
       "      <th></th>\n",
       "      <th>sepal_len</th>\n",
       "      <th>sepal_wid</th>\n",
       "      <th>petal_len</th>\n",
       "      <th>petal_wid</th>\n",
       "      <th>class</th>\n",
       "    </tr>\n",
       "  </thead>\n",
       "  <tbody>\n",
       "    <tr>\n",
       "      <th>0</th>\n",
       "      <td>5.1</td>\n",
       "      <td>3.5</td>\n",
       "      <td>1.4</td>\n",
       "      <td>0.2</td>\n",
       "      <td>0</td>\n",
       "    </tr>\n",
       "    <tr>\n",
       "      <th>1</th>\n",
       "      <td>4.9</td>\n",
       "      <td>3.0</td>\n",
       "      <td>1.4</td>\n",
       "      <td>0.2</td>\n",
       "      <td>0</td>\n",
       "    </tr>\n",
       "    <tr>\n",
       "      <th>2</th>\n",
       "      <td>4.7</td>\n",
       "      <td>3.2</td>\n",
       "      <td>1.3</td>\n",
       "      <td>0.2</td>\n",
       "      <td>0</td>\n",
       "    </tr>\n",
       "    <tr>\n",
       "      <th>3</th>\n",
       "      <td>4.6</td>\n",
       "      <td>3.1</td>\n",
       "      <td>1.5</td>\n",
       "      <td>0.2</td>\n",
       "      <td>0</td>\n",
       "    </tr>\n",
       "    <tr>\n",
       "      <th>4</th>\n",
       "      <td>5.0</td>\n",
       "      <td>3.6</td>\n",
       "      <td>1.4</td>\n",
       "      <td>0.2</td>\n",
       "      <td>0</td>\n",
       "    </tr>\n",
       "    <tr>\n",
       "      <th>...</th>\n",
       "      <td>...</td>\n",
       "      <td>...</td>\n",
       "      <td>...</td>\n",
       "      <td>...</td>\n",
       "      <td>...</td>\n",
       "    </tr>\n",
       "    <tr>\n",
       "      <th>145</th>\n",
       "      <td>6.7</td>\n",
       "      <td>3.0</td>\n",
       "      <td>5.2</td>\n",
       "      <td>2.3</td>\n",
       "      <td>2</td>\n",
       "    </tr>\n",
       "    <tr>\n",
       "      <th>146</th>\n",
       "      <td>6.3</td>\n",
       "      <td>2.5</td>\n",
       "      <td>5.0</td>\n",
       "      <td>1.9</td>\n",
       "      <td>2</td>\n",
       "    </tr>\n",
       "    <tr>\n",
       "      <th>147</th>\n",
       "      <td>6.5</td>\n",
       "      <td>3.0</td>\n",
       "      <td>5.2</td>\n",
       "      <td>2.0</td>\n",
       "      <td>2</td>\n",
       "    </tr>\n",
       "    <tr>\n",
       "      <th>148</th>\n",
       "      <td>6.2</td>\n",
       "      <td>3.4</td>\n",
       "      <td>5.4</td>\n",
       "      <td>2.3</td>\n",
       "      <td>2</td>\n",
       "    </tr>\n",
       "    <tr>\n",
       "      <th>149</th>\n",
       "      <td>5.9</td>\n",
       "      <td>3.0</td>\n",
       "      <td>5.1</td>\n",
       "      <td>1.8</td>\n",
       "      <td>2</td>\n",
       "    </tr>\n",
       "  </tbody>\n",
       "</table>\n",
       "<p>150 rows × 5 columns</p>\n",
       "</div>\n",
       "    <div class=\"colab-df-buttons\">\n",
       "\n",
       "  <div class=\"colab-df-container\">\n",
       "    <button class=\"colab-df-convert\" onclick=\"convertToInteractive('df-81b00eb5-f90c-456d-9cda-7d48c482447d')\"\n",
       "            title=\"Convert this dataframe to an interactive table.\"\n",
       "            style=\"display:none;\">\n",
       "\n",
       "  <svg xmlns=\"http://www.w3.org/2000/svg\" height=\"24px\" viewBox=\"0 -960 960 960\">\n",
       "    <path d=\"M120-120v-720h720v720H120Zm60-500h600v-160H180v160Zm220 220h160v-160H400v160Zm0 220h160v-160H400v160ZM180-400h160v-160H180v160Zm440 0h160v-160H620v160ZM180-180h160v-160H180v160Zm440 0h160v-160H620v160Z\"/>\n",
       "  </svg>\n",
       "    </button>\n",
       "\n",
       "  <style>\n",
       "    .colab-df-container {\n",
       "      display:flex;\n",
       "      gap: 12px;\n",
       "    }\n",
       "\n",
       "    .colab-df-convert {\n",
       "      background-color: #E8F0FE;\n",
       "      border: none;\n",
       "      border-radius: 50%;\n",
       "      cursor: pointer;\n",
       "      display: none;\n",
       "      fill: #1967D2;\n",
       "      height: 32px;\n",
       "      padding: 0 0 0 0;\n",
       "      width: 32px;\n",
       "    }\n",
       "\n",
       "    .colab-df-convert:hover {\n",
       "      background-color: #E2EBFA;\n",
       "      box-shadow: 0px 1px 2px rgba(60, 64, 67, 0.3), 0px 1px 3px 1px rgba(60, 64, 67, 0.15);\n",
       "      fill: #174EA6;\n",
       "    }\n",
       "\n",
       "    .colab-df-buttons div {\n",
       "      margin-bottom: 4px;\n",
       "    }\n",
       "\n",
       "    [theme=dark] .colab-df-convert {\n",
       "      background-color: #3B4455;\n",
       "      fill: #D2E3FC;\n",
       "    }\n",
       "\n",
       "    [theme=dark] .colab-df-convert:hover {\n",
       "      background-color: #434B5C;\n",
       "      box-shadow: 0px 1px 3px 1px rgba(0, 0, 0, 0.15);\n",
       "      filter: drop-shadow(0px 1px 2px rgba(0, 0, 0, 0.3));\n",
       "      fill: #FFFFFF;\n",
       "    }\n",
       "  </style>\n",
       "\n",
       "    <script>\n",
       "      const buttonEl =\n",
       "        document.querySelector('#df-81b00eb5-f90c-456d-9cda-7d48c482447d button.colab-df-convert');\n",
       "      buttonEl.style.display =\n",
       "        google.colab.kernel.accessAllowed ? 'block' : 'none';\n",
       "\n",
       "      async function convertToInteractive(key) {\n",
       "        const element = document.querySelector('#df-81b00eb5-f90c-456d-9cda-7d48c482447d');\n",
       "        const dataTable =\n",
       "          await google.colab.kernel.invokeFunction('convertToInteractive',\n",
       "                                                    [key], {});\n",
       "        if (!dataTable) return;\n",
       "\n",
       "        const docLinkHtml = 'Like what you see? Visit the ' +\n",
       "          '<a target=\"_blank\" href=https://colab.research.google.com/notebooks/data_table.ipynb>data table notebook</a>'\n",
       "          + ' to learn more about interactive tables.';\n",
       "        element.innerHTML = '';\n",
       "        dataTable['output_type'] = 'display_data';\n",
       "        await google.colab.output.renderOutput(dataTable, element);\n",
       "        const docLink = document.createElement('div');\n",
       "        docLink.innerHTML = docLinkHtml;\n",
       "        element.appendChild(docLink);\n",
       "      }\n",
       "    </script>\n",
       "  </div>\n",
       "\n",
       "\n",
       "<div id=\"df-c1c860af-303f-4878-8f39-c9b184484919\">\n",
       "  <button class=\"colab-df-quickchart\" onclick=\"quickchart('df-c1c860af-303f-4878-8f39-c9b184484919')\"\n",
       "            title=\"Suggest charts\"\n",
       "            style=\"display:none;\">\n",
       "\n",
       "<svg xmlns=\"http://www.w3.org/2000/svg\" height=\"24px\"viewBox=\"0 0 24 24\"\n",
       "     width=\"24px\">\n",
       "    <g>\n",
       "        <path d=\"M19 3H5c-1.1 0-2 .9-2 2v14c0 1.1.9 2 2 2h14c1.1 0 2-.9 2-2V5c0-1.1-.9-2-2-2zM9 17H7v-7h2v7zm4 0h-2V7h2v10zm4 0h-2v-4h2v4z\"/>\n",
       "    </g>\n",
       "</svg>\n",
       "  </button>\n",
       "\n",
       "<style>\n",
       "  .colab-df-quickchart {\n",
       "      --bg-color: #E8F0FE;\n",
       "      --fill-color: #1967D2;\n",
       "      --hover-bg-color: #E2EBFA;\n",
       "      --hover-fill-color: #174EA6;\n",
       "      --disabled-fill-color: #AAA;\n",
       "      --disabled-bg-color: #DDD;\n",
       "  }\n",
       "\n",
       "  [theme=dark] .colab-df-quickchart {\n",
       "      --bg-color: #3B4455;\n",
       "      --fill-color: #D2E3FC;\n",
       "      --hover-bg-color: #434B5C;\n",
       "      --hover-fill-color: #FFFFFF;\n",
       "      --disabled-bg-color: #3B4455;\n",
       "      --disabled-fill-color: #666;\n",
       "  }\n",
       "\n",
       "  .colab-df-quickchart {\n",
       "    background-color: var(--bg-color);\n",
       "    border: none;\n",
       "    border-radius: 50%;\n",
       "    cursor: pointer;\n",
       "    display: none;\n",
       "    fill: var(--fill-color);\n",
       "    height: 32px;\n",
       "    padding: 0;\n",
       "    width: 32px;\n",
       "  }\n",
       "\n",
       "  .colab-df-quickchart:hover {\n",
       "    background-color: var(--hover-bg-color);\n",
       "    box-shadow: 0 1px 2px rgba(60, 64, 67, 0.3), 0 1px 3px 1px rgba(60, 64, 67, 0.15);\n",
       "    fill: var(--button-hover-fill-color);\n",
       "  }\n",
       "\n",
       "  .colab-df-quickchart-complete:disabled,\n",
       "  .colab-df-quickchart-complete:disabled:hover {\n",
       "    background-color: var(--disabled-bg-color);\n",
       "    fill: var(--disabled-fill-color);\n",
       "    box-shadow: none;\n",
       "  }\n",
       "\n",
       "  .colab-df-spinner {\n",
       "    border: 2px solid var(--fill-color);\n",
       "    border-color: transparent;\n",
       "    border-bottom-color: var(--fill-color);\n",
       "    animation:\n",
       "      spin 1s steps(1) infinite;\n",
       "  }\n",
       "\n",
       "  @keyframes spin {\n",
       "    0% {\n",
       "      border-color: transparent;\n",
       "      border-bottom-color: var(--fill-color);\n",
       "      border-left-color: var(--fill-color);\n",
       "    }\n",
       "    20% {\n",
       "      border-color: transparent;\n",
       "      border-left-color: var(--fill-color);\n",
       "      border-top-color: var(--fill-color);\n",
       "    }\n",
       "    30% {\n",
       "      border-color: transparent;\n",
       "      border-left-color: var(--fill-color);\n",
       "      border-top-color: var(--fill-color);\n",
       "      border-right-color: var(--fill-color);\n",
       "    }\n",
       "    40% {\n",
       "      border-color: transparent;\n",
       "      border-right-color: var(--fill-color);\n",
       "      border-top-color: var(--fill-color);\n",
       "    }\n",
       "    60% {\n",
       "      border-color: transparent;\n",
       "      border-right-color: var(--fill-color);\n",
       "    }\n",
       "    80% {\n",
       "      border-color: transparent;\n",
       "      border-right-color: var(--fill-color);\n",
       "      border-bottom-color: var(--fill-color);\n",
       "    }\n",
       "    90% {\n",
       "      border-color: transparent;\n",
       "      border-bottom-color: var(--fill-color);\n",
       "    }\n",
       "  }\n",
       "</style>\n",
       "\n",
       "  <script>\n",
       "    async function quickchart(key) {\n",
       "      const quickchartButtonEl =\n",
       "        document.querySelector('#' + key + ' button');\n",
       "      quickchartButtonEl.disabled = true;  // To prevent multiple clicks.\n",
       "      quickchartButtonEl.classList.add('colab-df-spinner');\n",
       "      try {\n",
       "        const charts = await google.colab.kernel.invokeFunction(\n",
       "            'suggestCharts', [key], {});\n",
       "      } catch (error) {\n",
       "        console.error('Error during call to suggestCharts:', error);\n",
       "      }\n",
       "      quickchartButtonEl.classList.remove('colab-df-spinner');\n",
       "      quickchartButtonEl.classList.add('colab-df-quickchart-complete');\n",
       "    }\n",
       "    (() => {\n",
       "      let quickchartButtonEl =\n",
       "        document.querySelector('#df-c1c860af-303f-4878-8f39-c9b184484919 button');\n",
       "      quickchartButtonEl.style.display =\n",
       "        google.colab.kernel.accessAllowed ? 'block' : 'none';\n",
       "    })();\n",
       "  </script>\n",
       "</div>\n",
       "\n",
       "  <div id=\"id_305a1db8-8df2-48e5-ad35-6535ac0f029f\">\n",
       "    <style>\n",
       "      .colab-df-generate {\n",
       "        background-color: #E8F0FE;\n",
       "        border: none;\n",
       "        border-radius: 50%;\n",
       "        cursor: pointer;\n",
       "        display: none;\n",
       "        fill: #1967D2;\n",
       "        height: 32px;\n",
       "        padding: 0 0 0 0;\n",
       "        width: 32px;\n",
       "      }\n",
       "\n",
       "      .colab-df-generate:hover {\n",
       "        background-color: #E2EBFA;\n",
       "        box-shadow: 0px 1px 2px rgba(60, 64, 67, 0.3), 0px 1px 3px 1px rgba(60, 64, 67, 0.15);\n",
       "        fill: #174EA6;\n",
       "      }\n",
       "\n",
       "      [theme=dark] .colab-df-generate {\n",
       "        background-color: #3B4455;\n",
       "        fill: #D2E3FC;\n",
       "      }\n",
       "\n",
       "      [theme=dark] .colab-df-generate:hover {\n",
       "        background-color: #434B5C;\n",
       "        box-shadow: 0px 1px 3px 1px rgba(0, 0, 0, 0.15);\n",
       "        filter: drop-shadow(0px 1px 2px rgba(0, 0, 0, 0.3));\n",
       "        fill: #FFFFFF;\n",
       "      }\n",
       "    </style>\n",
       "    <button class=\"colab-df-generate\" onclick=\"generateWithVariable('iris_df')\"\n",
       "            title=\"Generate code using this dataframe.\"\n",
       "            style=\"display:none;\">\n",
       "\n",
       "  <svg xmlns=\"http://www.w3.org/2000/svg\" height=\"24px\"viewBox=\"0 0 24 24\"\n",
       "       width=\"24px\">\n",
       "    <path d=\"M7,19H8.4L18.45,9,17,7.55,7,17.6ZM5,21V16.75L18.45,3.32a2,2,0,0,1,2.83,0l1.4,1.43a1.91,1.91,0,0,1,.58,1.4,1.91,1.91,0,0,1-.58,1.4L9.25,21ZM18.45,9,17,7.55Zm-12,3A5.31,5.31,0,0,0,4.9,8.1,5.31,5.31,0,0,0,1,6.5,5.31,5.31,0,0,0,4.9,4.9,5.31,5.31,0,0,0,6.5,1,5.31,5.31,0,0,0,8.1,4.9,5.31,5.31,0,0,0,12,6.5,5.46,5.46,0,0,0,6.5,12Z\"/>\n",
       "  </svg>\n",
       "    </button>\n",
       "    <script>\n",
       "      (() => {\n",
       "      const buttonEl =\n",
       "        document.querySelector('#id_305a1db8-8df2-48e5-ad35-6535ac0f029f button.colab-df-generate');\n",
       "      buttonEl.style.display =\n",
       "        google.colab.kernel.accessAllowed ? 'block' : 'none';\n",
       "\n",
       "      buttonEl.onclick = () => {\n",
       "        google.colab.notebook.generateWithVariable('iris_df');\n",
       "      }\n",
       "      })();\n",
       "    </script>\n",
       "  </div>\n",
       "\n",
       "    </div>\n",
       "  </div>\n"
      ],
      "text/plain": [
       "     sepal_len  sepal_wid  petal_len  petal_wid  class\n",
       "0          5.1        3.5        1.4        0.2      0\n",
       "1          4.9        3.0        1.4        0.2      0\n",
       "2          4.7        3.2        1.3        0.2      0\n",
       "3          4.6        3.1        1.5        0.2      0\n",
       "4          5.0        3.6        1.4        0.2      0\n",
       "..         ...        ...        ...        ...    ...\n",
       "145        6.7        3.0        5.2        2.3      2\n",
       "146        6.3        2.5        5.0        1.9      2\n",
       "147        6.5        3.0        5.2        2.0      2\n",
       "148        6.2        3.4        5.4        2.3      2\n",
       "149        5.9        3.0        5.1        1.8      2\n",
       "\n",
       "[150 rows x 5 columns]"
      ]
     },
     "execution_count": 4,
     "metadata": {},
     "output_type": "execute_result"
    }
   ],
   "source": [
    "iris_df"
   ]
  },
  {
   "cell_type": "markdown",
   "id": "5beb1006",
   "metadata": {
    "id": "5beb1006"
   },
   "source": [
    "### Presenting the data set as a pie chart\n",
    "\n",
    "The final column in the earlier table, **class**, is numbered from 0 to 2, representing categorical data as follows.\n",
    "\n",
    "- 0: Setosa\n",
    "- 1: Versicolor\n",
    "- 2: Virginica\n",
    "\n",
    "We have converted these numbers into their respective species labels."
   ]
  },
  {
   "cell_type": "code",
   "execution_count": 5,
   "id": "e0213382",
   "metadata": {
    "executionInfo": {
     "elapsed": 14,
     "status": "ok",
     "timestamp": 1728219969868,
     "user": {
      "displayName": "Luis Anton Imperial",
      "userId": "11563317455878916196"
     },
     "user_tz": -480
    },
    "id": "e0213382"
   },
   "outputs": [],
   "source": [
    "import matplotlib.pyplot as plt"
   ]
  },
  {
   "cell_type": "code",
   "execution_count": 6,
   "id": "e4c5301e",
   "metadata": {
    "colab": {
     "base_uri": "https://localhost:8080/",
     "height": 428
    },
    "executionInfo": {
     "elapsed": 556,
     "status": "ok",
     "timestamp": 1728219970411,
     "user": {
      "displayName": "Luis Anton Imperial",
      "userId": "11563317455878916196"
     },
     "user_tz": -480
    },
    "id": "e4c5301e",
    "outputId": "c4bacd6d-4a47-4ce3-da11-9be444e8ab03"
   },
   "outputs": [
    {
     "data": {
      "image/png": "[encoded data removed]",
      "text/plain": [
       "<Figure size 640x480 with 1 Axes>"
      ]
     },
     "metadata": {},
     "output_type": "display_data"
    }
   ],
   "source": [
    "# Count the occurrences of each class (species)\n",
    "class_counts = iris_df[\"class\"].value_counts()\n",
    "\n",
    "# Plot the pie chart using the counts\n",
    "plt.pie(class_counts, labels=['Setosa', 'Versicolor', 'Virginica'], autopct='%1.1f%%')\n",
    "plt.title(\"Species of Iris Flowers\")\n",
    "plt.show()"
   ]
  },
  {
   "cell_type": "markdown",
   "id": "f5b822a3",
   "metadata": {
    "id": "f5b822a3"
   },
   "source": [
    "## Train, Test, Split\n",
    "\n",
    "Making use of the `model_selection` class in the SciKit-Learn package, we separate our two sets of variables into a training set and a testing set.\n",
    "\n",
    "We chose 25% as the size of the test set."
   ]
  },
  {
   "cell_type": "code",
   "execution_count": 7,
   "id": "a68276a7",
   "metadata": {
    "executionInfo": {
     "elapsed": 494,
     "status": "ok",
     "timestamp": 1728219970885,
     "user": {
      "displayName": "Luis Anton Imperial",
      "userId": "11563317455878916196"
     },
     "user_tz": -480
    },
    "id": "a68276a7"
   },
   "outputs": [],
   "source": [
    "from sklearn.model_selection import train_test_split\n",
    "X_train, X_test, Y_train, Y_test = train_test_split(iris_X, iris_Y, test_size = 0.25, random_state = 0)"
   ]
  },
  {
   "cell_type": "markdown",
   "id": "2ac3d6da",
   "metadata": {
    "id": "2ac3d6da"
   },
   "source": [
    "### Train, Test, Split: Peeking through the subsets of data"
   ]
  },
  {
   "cell_type": "code",
   "execution_count": 8,
   "id": "a3db9401",
   "metadata": {
    "colab": {
     "base_uri": "https://localhost:8080/"
    },
    "executionInfo": {
     "elapsed": 49,
     "status": "ok",
     "timestamp": 1728219970886,
     "user": {
      "displayName": "Luis Anton Imperial",
      "userId": "11563317455878916196"
     },
     "user_tz": -480
    },
    "id": "a3db9401",
    "outputId": "1f8ddf59-131a-45d1-f887-7ca46f730b8c"
   },
   "outputs": [
    {
     "name": "stdout",
     "output_type": "stream",
     "text": [
      "     sepal_len  sepal_wid  petal_len  petal_wid\n",
      "61         5.9        3.0        4.2        1.5\n",
      "92         5.8        2.6        4.0        1.2\n",
      "112        6.8        3.0        5.5        2.1\n",
      "2          4.7        3.2        1.3        0.2\n",
      "141        6.9        3.1        5.1        2.3\n",
      "..         ...        ...        ...        ...\n",
      "9          4.9        3.1        1.5        0.1\n",
      "103        6.3        2.9        5.6        1.8\n",
      "67         5.8        2.7        4.1        1.0\n",
      "117        7.7        3.8        6.7        2.2\n",
      "47         4.6        3.2        1.4        0.2\n",
      "\n",
      "[112 rows x 4 columns]\n"
     ]
    }
   ],
   "source": [
    "print(X_train)"
   ]
  },
  {
   "cell_type": "code",
   "execution_count": 9,
   "id": "a5ae6c68",
   "metadata": {
    "colab": {
     "base_uri": "https://localhost:8080/"
    },
    "executionInfo": {
     "elapsed": 47,
     "status": "ok",
     "timestamp": 1728219970887,
     "user": {
      "displayName": "Luis Anton Imperial",
      "userId": "11563317455878916196"
     },
     "user_tz": -480
    },
    "id": "a5ae6c68",
    "outputId": "944be5b7-4268-4a9d-a7e4-fecee122f97f"
   },
   "outputs": [
    {
     "name": "stdout",
     "output_type": "stream",
     "text": [
      "61     1\n",
      "92     1\n",
      "112    2\n",
      "2      0\n",
      "141    2\n",
      "      ..\n",
      "9      0\n",
      "103    2\n",
      "67     1\n",
      "117    2\n",
      "47     0\n",
      "Name: class, Length: 112, dtype: int64\n"
     ]
    }
   ],
   "source": [
    "print(Y_train)"
   ]
  },
  {
   "cell_type": "code",
   "execution_count": 10,
   "id": "d5cf9ab0",
   "metadata": {
    "colab": {
     "base_uri": "https://localhost:8080/"
    },
    "executionInfo": {
     "elapsed": 39,
     "status": "ok",
     "timestamp": 1728219970887,
     "user": {
      "displayName": "Luis Anton Imperial",
      "userId": "11563317455878916196"
     },
     "user_tz": -480
    },
    "id": "d5cf9ab0",
    "outputId": "dbd93bb8-caca-4671-c5db-21cf8daf5b15"
   },
   "outputs": [
    {
     "name": "stdout",
     "output_type": "stream",
     "text": [
      "     sepal_len  sepal_wid  petal_len  petal_wid\n",
      "114        5.8        2.8        5.1        2.4\n",
      "62         6.0        2.2        4.0        1.0\n",
      "33         5.5        4.2        1.4        0.2\n",
      "107        7.3        2.9        6.3        1.8\n",
      "7          5.0        3.4        1.5        0.2\n",
      "100        6.3        3.3        6.0        2.5\n",
      "40         5.0        3.5        1.3        0.3\n",
      "86         6.7        3.1        4.7        1.5\n",
      "76         6.8        2.8        4.8        1.4\n",
      "71         6.1        2.8        4.0        1.3\n",
      "134        6.1        2.6        5.6        1.4\n",
      "51         6.4        3.2        4.5        1.5\n",
      "73         6.1        2.8        4.7        1.2\n",
      "54         6.5        2.8        4.6        1.5\n",
      "63         6.1        2.9        4.7        1.4\n",
      "37         4.9        3.6        1.4        0.1\n",
      "78         6.0        2.9        4.5        1.5\n",
      "90         5.5        2.6        4.4        1.2\n",
      "45         4.8        3.0        1.4        0.3\n",
      "16         5.4        3.9        1.3        0.4\n",
      "121        5.6        2.8        4.9        2.0\n",
      "66         5.6        3.0        4.5        1.5\n",
      "24         4.8        3.4        1.9        0.2\n",
      "8          4.4        2.9        1.4        0.2\n",
      "126        6.2        2.8        4.8        1.8\n",
      "22         4.6        3.6        1.0        0.2\n",
      "44         5.1        3.8        1.9        0.4\n",
      "97         6.2        2.9        4.3        1.3\n",
      "93         5.0        2.3        3.3        1.0\n",
      "26         5.0        3.4        1.6        0.4\n",
      "137        6.4        3.1        5.5        1.8\n",
      "84         5.4        3.0        4.5        1.5\n",
      "27         5.2        3.5        1.5        0.2\n",
      "127        6.1        3.0        4.9        1.8\n",
      "132        6.4        2.8        5.6        2.2\n",
      "59         5.2        2.7        3.9        1.4\n",
      "18         5.7        3.8        1.7        0.3\n",
      "83         6.0        2.7        5.1        1.6\n"
     ]
    }
   ],
   "source": [
    "print(X_test)"
   ]
  },
  {
   "cell_type": "code",
   "execution_count": 11,
   "id": "24d71e68",
   "metadata": {
    "colab": {
     "base_uri": "https://localhost:8080/"
    },
    "executionInfo": {
     "elapsed": 31,
     "status": "ok",
     "timestamp": 1728219970887,
     "user": {
      "displayName": "Luis Anton Imperial",
      "userId": "11563317455878916196"
     },
     "user_tz": -480
    },
    "id": "24d71e68",
    "outputId": "f319f2ec-3b84-42fa-d22d-9e7cf78861c8"
   },
   "outputs": [
    {
     "name": "stdout",
     "output_type": "stream",
     "text": [
      "114    2\n",
      "62     1\n",
      "33     0\n",
      "107    2\n",
      "7      0\n",
      "100    2\n",
      "40     0\n",
      "86     1\n",
      "76     1\n",
      "71     1\n",
      "134    2\n",
      "51     1\n",
      "73     1\n",
      "54     1\n",
      "63     1\n",
      "37     0\n",
      "78     1\n",
      "90     1\n",
      "45     0\n",
      "16     0\n",
      "121    2\n",
      "66     1\n",
      "24     0\n",
      "8      0\n",
      "126    2\n",
      "22     0\n",
      "44     0\n",
      "97     1\n",
      "93     1\n",
      "26     0\n",
      "137    2\n",
      "84     1\n",
      "27     0\n",
      "127    2\n",
      "132    2\n",
      "59     1\n",
      "18     0\n",
      "83     1\n",
      "Name: class, dtype: int64\n"
     ]
    }
   ],
   "source": [
    "print(Y_test)"
   ]
  },
  {
   "cell_type": "markdown",
   "id": "ab3c16dd",
   "metadata": {
    "id": "ab3c16dd"
   },
   "source": [
    "As you may have observed, we have randomized and split the classic Iris flower data set into four variables — an X and a Y for the training set, and an X and a Y for the testing set."
   ]
  },
  {
   "cell_type": "markdown",
   "id": "28135f4d",
   "metadata": {
    "id": "28135f4d"
   },
   "source": [
    "## Implement KNN Algorithm"
   ]
  },
  {
   "cell_type": "code",
   "execution_count": 12,
   "id": "0e64c062",
   "metadata": {
    "executionInfo": {
     "elapsed": 22,
     "status": "ok",
     "timestamp": 1728219970888,
     "user": {
      "displayName": "Luis Anton Imperial",
      "userId": "11563317455878916196"
     },
     "user_tz": -480
    },
    "id": "0e64c062"
   },
   "outputs": [],
   "source": [
    "from sklearn.preprocessing import StandardScaler\n",
    "sc = StandardScaler()\n",
    "X_train = sc.fit_transform(X_train)\n",
    "X_test = sc.transform(X_test)"
   ]
  },
  {
   "cell_type": "code",
   "execution_count": 13,
   "id": "a3f36ff9",
   "metadata": {
    "colab": {
     "base_uri": "https://localhost:8080/"
    },
    "executionInfo": {
     "elapsed": 21,
     "status": "ok",
     "timestamp": 1728219970889,
     "user": {
      "displayName": "Luis Anton Imperial",
      "userId": "11563317455878916196"
     },
     "user_tz": -480
    },
    "id": "a3f36ff9",
    "outputId": "cd2d4232-4eb4-4cba-991d-d1086cf28732"
   },
   "outputs": [
    {
     "name": "stdout",
     "output_type": "stream",
     "text": [
      "[[ 1.54399532e-02 -1.19254753e-01  2.25126850e-01  3.55797625e-01]\n",
      " [-9.98450310e-02 -1.04039491e+00  1.13559562e-01 -2.98410911e-02]\n",
      " [ 1.05300481e+00 -1.19254753e-01  9.50314227e-01  1.12707506e+00]\n",
      " [-1.36797986e+00  3.41315328e-01 -1.39259884e+00 -1.31530348e+00]\n",
      " [ 1.16828980e+00  1.11030287e-01  7.27179649e-01  1.38416753e+00]\n",
      " [-1.02212490e+00  1.03217045e+00 -1.22524790e+00 -8.01118523e-01]\n",
      " [-5.60984968e-01  1.49274053e+00 -1.28103155e+00 -1.31530348e+00]\n",
      " [-1.02212490e+00 -2.42210516e+00 -1.65358660e-01 -2.86933568e-01]\n",
      " [ 7.07149859e-01 -1.19254753e-01  9.50314227e-01  7.41436341e-01]\n",
      " [ 9.37719827e-01  5.71600368e-01  1.06188152e+00  1.64126001e+00]\n",
      " [ 1.30724937e-01 -1.96153508e+00  6.71396005e-01  3.55797625e-01]\n",
      " [ 9.37719827e-01 -1.27067995e+00  1.11766516e+00  7.41436341e-01]\n",
      " [-3.30414999e-01 -1.27067995e+00  5.77759173e-02 -1.58387330e-01]\n",
      " [ 2.09056967e+00 -1.19254753e-01  1.28501609e+00  1.38416753e+00]\n",
      " [ 4.76579890e-01  5.71600368e-01  5.04045072e-01  4.84343863e-01]\n",
      " [-4.45699984e-01 -1.50096499e+00  1.99227301e-03 -1.58387330e-01]\n",
      " [ 4.76579890e-01 -8.10109874e-01  6.15612361e-01  7.41436341e-01]\n",
      " [ 4.76579890e-01 -5.79824834e-01  7.27179649e-01  3.55797625e-01]\n",
      " [-1.13740989e+00 -1.27067995e+00  3.92477783e-01  6.12890102e-01]\n",
      " [ 4.76579890e-01 -1.27067995e+00  6.71396005e-01  8.69982579e-01]\n",
      " [ 1.28357478e+00  3.41315328e-01  5.04045072e-01  2.27251386e-01]\n",
      " [ 7.07149859e-01 -1.19254753e-01  7.82963294e-01  9.98528818e-01]\n",
      " [ 1.30724937e-01  8.01885408e-01  3.92477783e-01  4.84343863e-01]\n",
      " [-1.25269487e+00  1.11030287e-01 -1.22524790e+00 -1.31530348e+00]\n",
      " [-9.98450310e-02 -8.10109874e-01  7.27179649e-01  8.69982579e-01]\n",
      " [-3.30414999e-01 -8.10109874e-01  2.25126850e-01  9.87051475e-02]\n",
      " [-3.30414999e-01 -3.49539793e-01 -1.09575016e-01  9.87051475e-02]\n",
      " [-4.45699984e-01 -1.27067995e+00  1.13559562e-01  9.87051475e-02]\n",
      " [ 2.46009922e-01 -1.19254753e-01  4.48261428e-01  2.27251386e-01]\n",
      " [ 1.51414475e+00  3.41315328e-01  1.22923245e+00  7.41436341e-01]\n",
      " [-6.76269952e-01  1.49274053e+00 -1.28103155e+00 -1.31530348e+00]\n",
      " [-1.82911979e+00 -1.19254753e-01 -1.50416612e+00 -1.44384972e+00]\n",
      " [ 5.91864874e-01 -8.10109874e-01  8.38746938e-01  8.69982579e-01]\n",
      " [-2.15130015e-01 -1.19254753e-01  2.25126850e-01 -2.98410911e-02]\n",
      " [-5.60984968e-01  8.01885408e-01 -1.16946426e+00 -1.31530348e+00]\n",
      " [-2.15130015e-01  3.10473581e+00 -1.28103155e+00 -1.05821100e+00]\n",
      " [ 1.16828980e+00  1.11030287e-01  6.15612361e-01  3.55797625e-01]\n",
      " [-1.48326484e+00  1.11030287e-01 -1.28103155e+00 -1.31530348e+00]\n",
      " [ 1.54399532e-02 -1.19254753e-01  7.27179649e-01  7.41436341e-01]\n",
      " [-9.06839920e-01 -1.27067995e+00 -4.44276882e-01 -1.58387330e-01]\n",
      " [-1.48326484e+00  8.01885408e-01 -1.33681519e+00 -1.18675724e+00]\n",
      " [ 3.61294906e-01 -1.96153508e+00  3.92477783e-01  3.55797625e-01]\n",
      " [ 1.51414475e+00  1.26245549e+00  1.28501609e+00  1.64126001e+00]\n",
      " [-2.15130015e-01 -3.49539793e-01  2.25126850e-01  9.87051475e-02]\n",
      " [-1.25269487e+00 -1.19254753e-01 -1.33681519e+00 -1.44384972e+00]\n",
      " [ 1.39885976e+00 -1.19254753e-01  1.17344880e+00  1.12707506e+00]\n",
      " [ 1.16828980e+00  3.41315328e-01  1.06188152e+00  1.38416753e+00]\n",
      " [ 7.07149859e-01 -1.19254753e-01  1.11766516e+00  1.25562129e+00]\n",
      " [ 5.91864874e-01 -5.79824834e-01  1.00609787e+00  1.12707506e+00]\n",
      " [-9.06839920e-01  1.72302557e+00 -1.22524790e+00 -1.31530348e+00]\n",
      " [-1.25269487e+00  8.01885408e-01 -1.22524790e+00 -1.31530348e+00]\n",
      " [ 7.07149859e-01  3.41315328e-01  7.27179649e-01  9.98528818e-01]\n",
      " [ 9.37719827e-01  5.71600368e-01  1.06188152e+00  1.12707506e+00]\n",
      " [-1.59854983e+00 -1.73125004e+00 -1.39259884e+00 -1.18675724e+00]\n",
      " [ 3.61294906e-01  8.01885408e-01  8.94530582e-01  1.38416753e+00]\n",
      " [-1.13740989e+00 -1.19254753e-01 -1.33681519e+00 -1.31530348e+00]\n",
      " [-2.15130015e-01 -1.27067995e+00  6.71396005e-01  9.98528818e-01]\n",
      " [ 1.16828980e+00  1.11030287e-01  8.94530582e-01  1.12707506e+00]\n",
      " [-1.71383481e+00  3.41315328e-01 -1.39259884e+00 -1.31530348e+00]\n",
      " [-1.02212490e+00  1.26245549e+00 -1.33681519e+00 -1.31530348e+00]\n",
      " [ 1.51414475e+00 -1.19254753e-01  1.11766516e+00  4.84343863e-01]\n",
      " [-9.06839920e-01  1.03217045e+00 -1.33681519e+00 -1.18675724e+00]\n",
      " [-1.71383481e+00 -1.19254753e-01 -1.39259884e+00 -1.31530348e+00]\n",
      " [-5.60984968e-01  1.95331061e+00 -1.16946426e+00 -1.05821100e+00]\n",
      " [-4.45699984e-01 -1.73125004e+00  1.13559562e-01  9.87051475e-02]\n",
      " [ 1.05300481e+00  3.41315328e-01  1.17344880e+00  1.38416753e+00]\n",
      " [ 1.97528468e+00 -1.19254753e-01  1.56393431e+00  1.12707506e+00]\n",
      " [-9.06839920e-01  1.03217045e+00 -1.33681519e+00 -1.31530348e+00]\n",
      " [-1.13740989e+00  1.11030287e-01 -1.28103155e+00 -1.31530348e+00]\n",
      " [-7.91554936e-01  8.01885408e-01 -1.33681519e+00 -1.31530348e+00]\n",
      " [-2.15130015e-01 -5.79824834e-01  3.92477783e-01  9.87051475e-02]\n",
      " [ 8.22434843e-01 -1.19254753e-01  3.36694139e-01  2.27251386e-01]\n",
      " [-1.02212490e+00  3.41315328e-01 -1.44838248e+00 -1.31530348e+00]\n",
      " [-9.06839920e-01  5.71600368e-01 -1.16946426e+00 -9.29664761e-01]\n",
      " [ 5.91864874e-01 -3.49539793e-01  2.80910495e-01  9.87051475e-02]\n",
      " [-5.60984968e-01  8.01885408e-01 -1.28103155e+00 -1.05821100e+00]\n",
      " [ 2.09056967e+00 -1.04039491e+00  1.73128525e+00  1.38416753e+00]\n",
      " [-1.13740989e+00 -1.50096499e+00 -2.76925949e-01 -2.86933568e-01]\n",
      " [ 2.32113964e+00  1.72302557e+00  1.45236703e+00  9.98528818e-01]\n",
      " [ 9.37719827e-01  1.11030287e-01  3.36694139e-01  2.27251386e-01]\n",
      " [-7.91554936e-01  2.41388069e+00 -1.28103155e+00 -1.44384972e+00]\n",
      " [ 1.30724937e-01 -1.19254753e-01  5.59828716e-01  7.41436341e-01]\n",
      " [-9.98450310e-02  2.18359565e+00 -1.44838248e+00 -1.31530348e+00]\n",
      " [ 2.09056967e+00 -5.79824834e-01  1.61971796e+00  9.98528818e-01]\n",
      " [-9.06839920e-01  1.72302557e+00 -1.28103155e+00 -1.18675724e+00]\n",
      " [-1.36797986e+00  3.41315328e-01 -1.22524790e+00 -1.31530348e+00]\n",
      " [ 1.74471472e+00 -5.79824834e-01  1.28501609e+00  8.69982579e-01]\n",
      " [-1.02212490e+00  5.71600368e-01 -1.33681519e+00 -1.31530348e+00]\n",
      " [ 4.76579890e-01  8.01885408e-01  1.00609787e+00  1.51271377e+00]\n",
      " [-2.15130015e-01 -5.79824834e-01  1.69343206e-01  9.87051475e-02]\n",
      " [-9.98450310e-02 -8.10109874e-01  5.77759173e-02 -2.98410911e-02]\n",
      " [-2.15130015e-01 -1.04039491e+00 -1.65358660e-01 -2.86933568e-01]\n",
      " [ 5.91864874e-01  3.41315328e-01  8.38746938e-01  1.38416753e+00]\n",
      " [ 9.37719827e-01 -1.19254753e-01  7.82963294e-01  1.38416753e+00]\n",
      " [ 4.76579890e-01 -1.27067995e+00  6.15612361e-01  3.55797625e-01]\n",
      " [ 9.37719827e-01 -1.19254753e-01  6.71396005e-01  6.12890102e-01]\n",
      " [-1.02212490e+00 -1.19254753e-01 -1.22524790e+00 -1.31530348e+00]\n",
      " [-4.45699984e-01 -1.50096499e+00 -5.37913713e-02 -2.86933568e-01]\n",
      " [ 9.37719827e-01  1.11030287e-01  1.00609787e+00  1.51271377e+00]\n",
      " [-9.98450310e-02 -8.10109874e-01  7.27179649e-01  8.69982579e-01]\n",
      " [-9.06839920e-01  8.01885408e-01 -1.28103155e+00 -1.31530348e+00]\n",
      " [ 8.22434843e-01 -3.49539793e-01  4.48261428e-01  9.87051475e-02]\n",
      " [-3.30414999e-01 -1.19254753e-01  1.69343206e-01  9.87051475e-02]\n",
      " [ 1.54399532e-02  3.41315328e-01  5.59828716e-01  7.41436341e-01]\n",
      " [ 4.76579890e-01 -1.73125004e+00  3.36694139e-01  9.87051475e-02]\n",
      " [-4.45699984e-01  1.03217045e+00 -1.39259884e+00 -1.31530348e+00]\n",
      " [-9.06839920e-01  1.49274053e+00 -1.28103155e+00 -1.05821100e+00]\n",
      " [-1.13740989e+00  1.11030287e-01 -1.28103155e+00 -1.44384972e+00]\n",
      " [ 4.76579890e-01 -3.49539793e-01  1.00609787e+00  7.41436341e-01]\n",
      " [-9.98450310e-02 -8.10109874e-01  1.69343206e-01 -2.86933568e-01]\n",
      " [ 2.09056967e+00  1.72302557e+00  1.61971796e+00  1.25562129e+00]\n",
      " [-1.48326484e+00  3.41315328e-01 -1.33681519e+00 -1.31530348e+00]]\n"
     ]
    }
   ],
   "source": [
    "print(X_train)"
   ]
  },
  {
   "cell_type": "code",
   "execution_count": 14,
   "id": "4ccc17e7",
   "metadata": {
    "executionInfo": {
     "elapsed": 441,
     "status": "ok",
     "timestamp": 1728219971313,
     "user": {
      "displayName": "Luis Anton Imperial",
      "userId": "11563317455878916196"
     },
     "user_tz": -480
    },
    "id": "4ccc17e7"
   },
   "outputs": [],
   "source": [
    "from sklearn.neighbors import KNeighborsClassifier"
   ]
  },
  {
   "cell_type": "code",
   "execution_count": 15,
   "id": "9641e32e",
   "metadata": {
    "executionInfo": {
     "elapsed": 27,
     "status": "ok",
     "timestamp": 1728219971314,
     "user": {
      "displayName": "Luis Anton Imperial",
      "userId": "11563317455878916196"
     },
     "user_tz": -480
    },
    "id": "9641e32e"
   },
   "outputs": [],
   "source": [
    "K = 5"
   ]
  },
  {
   "cell_type": "code",
   "execution_count": 16,
   "id": "be168027",
   "metadata": {
    "colab": {
     "base_uri": "https://localhost:8080/",
     "height": 80
    },
    "executionInfo": {
     "elapsed": 25,
     "status": "ok",
     "timestamp": 1728219971314,
     "user": {
      "displayName": "Luis Anton Imperial",
      "userId": "11563317455878916196"
     },
     "user_tz": -480
    },
    "id": "be168027",
    "outputId": "0ab22b36-0ee3-46d2-907c-7260496acf21"
   },
   "outputs": [
    {
     "data": {
      "text/html": [
       "<style>#sk-container-id-1 {\n",
       "  /* Definition of color scheme common for light and dark mode */\n",
       "  --sklearn-color-text: black;\n",
       "  --sklearn-color-line: gray;\n",
       "  /* Definition of color scheme for unfitted estimators */\n",
       "  --sklearn-color-unfitted-level-0: #fff5e6;\n",
       "  --sklearn-color-unfitted-level-1: #f6e4d2;\n",
       "  --sklearn-color-unfitted-level-2: #ffe0b3;\n",
       "  --sklearn-color-unfitted-level-3: chocolate;\n",
       "  /* Definition of color scheme for fitted estimators */\n",
       "  --sklearn-color-fitted-level-0: #f0f8ff;\n",
       "  --sklearn-color-fitted-level-1: #d4ebff;\n",
       "  --sklearn-color-fitted-level-2: #b3dbfd;\n",
       "  --sklearn-color-fitted-level-3: cornflowerblue;\n",
       "\n",
       "  /* Specific color for light theme */\n",
       "  --sklearn-color-text-on-default-background: var(--sg-text-color, var(--theme-code-foreground, var(--jp-content-font-color1, black)));\n",
       "  --sklearn-color-background: var(--sg-background-color, var(--theme-background, var(--jp-layout-color0, white)));\n",
       "  --sklearn-color-border-box: var(--sg-text-color, var(--theme-code-foreground, var(--jp-content-font-color1, black)));\n",
       "  --sklearn-color-icon: #696969;\n",
       "\n",
       "  @media (prefers-color-scheme: dark) {\n",
       "    /* Redefinition of color scheme for dark theme */\n",
       "    --sklearn-color-text-on-default-background: var(--sg-text-color, var(--theme-code-foreground, var(--jp-content-font-color1, white)));\n",
       "    --sklearn-color-background: var(--sg-background-color, var(--theme-background, var(--jp-layout-color0, #111)));\n",
       "    --sklearn-color-border-box: var(--sg-text-color, var(--theme-code-foreground, var(--jp-content-font-color1, white)));\n",
       "    --sklearn-color-icon: #878787;\n",
       "  }\n",
       "}\n",
       "\n",
       "#sk-container-id-1 {\n",
       "  color: var(--sklearn-color-text);\n",
       "}\n",
       "\n",
       "#sk-container-id-1 pre {\n",
       "  padding: 0;\n",
       "}\n",
       "\n",
       "#sk-container-id-1 input.sk-hidden--visually {\n",
       "  border: 0;\n",
       "  clip: rect(1px 1px 1px 1px);\n",
       "  clip: rect(1px, 1px, 1px, 1px);\n",
       "  height: 1px;\n",
       "  margin: -1px;\n",
       "  overflow: hidden;\n",
       "  padding: 0;\n",
       "  position: absolute;\n",
       "  width: 1px;\n",
       "}\n",
       "\n",
       "#sk-container-id-1 div.sk-dashed-wrapped {\n",
       "  border: 1px dashed var(--sklearn-color-line);\n",
       "  margin: 0 0.4em 0.5em 0.4em;\n",
       "  box-sizing: border-box;\n",
       "  padding-bottom: 0.4em;\n",
       "  background-color: var(--sklearn-color-background);\n",
       "}\n",
       "\n",
       "#sk-container-id-1 div.sk-container {\n",
       "  /* jupyter's `normalize.less` sets `[hidden] { display: none; }`\n",
       "     but bootstrap.min.css set `[hidden] { display: none !important; }`\n",
       "     so we also need the `!important` here to be able to override the\n",
       "     default hidden behavior on the sphinx rendered scikit-learn.org.\n",
       "     See: https://github.com/scikit-learn/scikit-learn/issues/21755 */\n",
       "  display: inline-block !important;\n",
       "  position: relative;\n",
       "}\n",
       "\n",
       "#sk-container-id-1 div.sk-text-repr-fallback {\n",
       "  display: none;\n",
       "}\n",
       "\n",
       "div.sk-parallel-item,\n",
       "div.sk-serial,\n",
       "div.sk-item {\n",
       "  /* draw centered vertical line to link estimators */\n",
       "  background-image: linear-gradient(var(--sklearn-color-text-on-default-background), var(--sklearn-color-text-on-default-background));\n",
       "  background-size: 2px 100%;\n",
       "  background-repeat: no-repeat;\n",
       "  background-position: center center;\n",
       "}\n",
       "\n",
       "/* Parallel-specific style estimator block */\n",
       "\n",
       "#sk-container-id-1 div.sk-parallel-item::after {\n",
       "  content: \"\";\n",
       "  width: 100%;\n",
       "  border-bottom: 2px solid var(--sklearn-color-text-on-default-background);\n",
       "  flex-grow: 1;\n",
       "}\n",
       "\n",
       "#sk-container-id-1 div.sk-parallel {\n",
       "  display: flex;\n",
       "  align-items: stretch;\n",
       "  justify-content: center;\n",
       "  background-color: var(--sklearn-color-background);\n",
       "  position: relative;\n",
       "}\n",
       "\n",
       "#sk-container-id-1 div.sk-parallel-item {\n",
       "  display: flex;\n",
       "  flex-direction: column;\n",
       "}\n",
       "\n",
       "#sk-container-id-1 div.sk-parallel-item:first-child::after {\n",
       "  align-self: flex-end;\n",
       "  width: 50%;\n",
       "}\n",
       "\n",
       "#sk-container-id-1 div.sk-parallel-item:last-child::after {\n",
       "  align-self: flex-start;\n",
       "  width: 50%;\n",
       "}\n",
       "\n",
       "#sk-container-id-1 div.sk-parallel-item:only-child::after {\n",
       "  width: 0;\n",
       "}\n",
       "\n",
       "/* Serial-specific style estimator block */\n",
       "\n",
       "#sk-container-id-1 div.sk-serial {\n",
       "  display: flex;\n",
       "  flex-direction: column;\n",
       "  align-items: center;\n",
       "  background-color: var(--sklearn-color-background);\n",
       "  padding-right: 1em;\n",
       "  padding-left: 1em;\n",
       "}\n",
       "\n",
       "\n",
       "/* Toggleable style: style used for estimator/Pipeline/ColumnTransformer box that is\n",
       "clickable and can be expanded/collapsed.\n",
       "- Pipeline and ColumnTransformer use this feature and define the default style\n",
       "- Estimators will overwrite some part of the style using the `sk-estimator` class\n",
       "*/\n",
       "\n",
       "/* Pipeline and ColumnTransformer style (default) */\n",
       "\n",
       "#sk-container-id-1 div.sk-toggleable {\n",
       "  /* Default theme specific background. It is overwritten whether we have a\n",
       "  specific estimator or a Pipeline/ColumnTransformer */\n",
       "  background-color: var(--sklearn-color-background);\n",
       "}\n",
       "\n",
       "/* Toggleable label */\n",
       "#sk-container-id-1 label.sk-toggleable__label {\n",
       "  cursor: pointer;\n",
       "  display: block;\n",
       "  width: 100%;\n",
       "  margin-bottom: 0;\n",
       "  padding: 0.5em;\n",
       "  box-sizing: border-box;\n",
       "  text-align: center;\n",
       "}\n",
       "\n",
       "#sk-container-id-1 label.sk-toggleable__label-arrow:before {\n",
       "  /* Arrow on the left of the label */\n",
       "  content: \"▸\";\n",
       "  float: left;\n",
       "  margin-right: 0.25em;\n",
       "  color: var(--sklearn-color-icon);\n",
       "}\n",
       "\n",
       "#sk-container-id-1 label.sk-toggleable__label-arrow:hover:before {\n",
       "  color: var(--sklearn-color-text);\n",
       "}\n",
       "\n",
       "/* Toggleable content - dropdown */\n",
       "\n",
       "#sk-container-id-1 div.sk-toggleable__content {\n",
       "  max-height: 0;\n",
       "  max-width: 0;\n",
       "  overflow: hidden;\n",
       "  text-align: left;\n",
       "  /* unfitted */\n",
       "  background-color: var(--sklearn-color-unfitted-level-0);\n",
       "}\n",
       "\n",
       "#sk-container-id-1 div.sk-toggleable__content.fitted {\n",
       "  /* fitted */\n",
       "  background-color: var(--sklearn-color-fitted-level-0);\n",
       "}\n",
       "\n",
       "#sk-container-id-1 div.sk-toggleable__content pre {\n",
       "  margin: 0.2em;\n",
       "  border-radius: 0.25em;\n",
       "  color: var(--sklearn-color-text);\n",
       "  /* unfitted */\n",
       "  background-color: var(--sklearn-color-unfitted-level-0);\n",
       "}\n",
       "\n",
       "#sk-container-id-1 div.sk-toggleable__content.fitted pre {\n",
       "  /* unfitted */\n",
       "  background-color: var(--sklearn-color-fitted-level-0);\n",
       "}\n",
       "\n",
       "#sk-container-id-1 input.sk-toggleable__control:checked~div.sk-toggleable__content {\n",
       "  /* Expand drop-down */\n",
       "  max-height: 200px;\n",
       "  max-width: 100%;\n",
       "  overflow: auto;\n",
       "}\n",
       "\n",
       "#sk-container-id-1 input.sk-toggleable__control:checked~label.sk-toggleable__label-arrow:before {\n",
       "  content: \"▾\";\n",
       "}\n",
       "\n",
       "/* Pipeline/ColumnTransformer-specific style */\n",
       "\n",
       "#sk-container-id-1 div.sk-label input.sk-toggleable__control:checked~label.sk-toggleable__label {\n",
       "  color: var(--sklearn-color-text);\n",
       "  background-color: var(--sklearn-color-unfitted-level-2);\n",
       "}\n",
       "\n",
       "#sk-container-id-1 div.sk-label.fitted input.sk-toggleable__control:checked~label.sk-toggleable__label {\n",
       "  background-color: var(--sklearn-color-fitted-level-2);\n",
       "}\n",
       "\n",
       "/* Estimator-specific style */\n",
       "\n",
       "/* Colorize estimator box */\n",
       "#sk-container-id-1 div.sk-estimator input.sk-toggleable__control:checked~label.sk-toggleable__label {\n",
       "  /* unfitted */\n",
       "  background-color: var(--sklearn-color-unfitted-level-2);\n",
       "}\n",
       "\n",
       "#sk-container-id-1 div.sk-estimator.fitted input.sk-toggleable__control:checked~label.sk-toggleable__label {\n",
       "  /* fitted */\n",
       "  background-color: var(--sklearn-color-fitted-level-2);\n",
       "}\n",
       "\n",
       "#sk-container-id-1 div.sk-label label.sk-toggleable__label,\n",
       "#sk-container-id-1 div.sk-label label {\n",
       "  /* The background is the default theme color */\n",
       "  color: var(--sklearn-color-text-on-default-background);\n",
       "}\n",
       "\n",
       "/* On hover, darken the color of the background */\n",
       "#sk-container-id-1 div.sk-label:hover label.sk-toggleable__label {\n",
       "  color: var(--sklearn-color-text);\n",
       "  background-color: var(--sklearn-color-unfitted-level-2);\n",
       "}\n",
       "\n",
       "/* Label box, darken color on hover, fitted */\n",
       "#sk-container-id-1 div.sk-label.fitted:hover label.sk-toggleable__label.fitted {\n",
       "  color: var(--sklearn-color-text);\n",
       "  background-color: var(--sklearn-color-fitted-level-2);\n",
       "}\n",
       "\n",
       "/* Estimator label */\n",
       "\n",
       "#sk-container-id-1 div.sk-label label {\n",
       "  font-family: monospace;\n",
       "  font-weight: bold;\n",
       "  display: inline-block;\n",
       "  line-height: 1.2em;\n",
       "}\n",
       "\n",
       "#sk-container-id-1 div.sk-label-container {\n",
       "  text-align: center;\n",
       "}\n",
       "\n",
       "/* Estimator-specific */\n",
       "#sk-container-id-1 div.sk-estimator {\n",
       "  font-family: monospace;\n",
       "  border: 1px dotted var(--sklearn-color-border-box);\n",
       "  border-radius: 0.25em;\n",
       "  box-sizing: border-box;\n",
       "  margin-bottom: 0.5em;\n",
       "  /* unfitted */\n",
       "  background-color: var(--sklearn-color-unfitted-level-0);\n",
       "}\n",
       "\n",
       "#sk-container-id-1 div.sk-estimator.fitted {\n",
       "  /* fitted */\n",
       "  background-color: var(--sklearn-color-fitted-level-0);\n",
       "}\n",
       "\n",
       "/* on hover */\n",
       "#sk-container-id-1 div.sk-estimator:hover {\n",
       "  /* unfitted */\n",
       "  background-color: var(--sklearn-color-unfitted-level-2);\n",
       "}\n",
       "\n",
       "#sk-container-id-1 div.sk-estimator.fitted:hover {\n",
       "  /* fitted */\n",
       "  background-color: var(--sklearn-color-fitted-level-2);\n",
       "}\n",
       "\n",
       "/* Specification for estimator info (e.g. \"i\" and \"?\") */\n",
       "\n",
       "/* Common style for \"i\" and \"?\" */\n",
       "\n",
       ".sk-estimator-doc-link,\n",
       "a:link.sk-estimator-doc-link,\n",
       "a:visited.sk-estimator-doc-link {\n",
       "  float: right;\n",
       "  font-size: smaller;\n",
       "  line-height: 1em;\n",
       "  font-family: monospace;\n",
       "  background-color: var(--sklearn-color-background);\n",
       "  border-radius: 1em;\n",
       "  height: 1em;\n",
       "  width: 1em;\n",
       "  text-decoration: none !important;\n",
       "  margin-left: 1ex;\n",
       "  /* unfitted */\n",
       "  border: var(--sklearn-color-unfitted-level-1) 1pt solid;\n",
       "  color: var(--sklearn-color-unfitted-level-1);\n",
       "}\n",
       "\n",
       ".sk-estimator-doc-link.fitted,\n",
       "a:link.sk-estimator-doc-link.fitted,\n",
       "a:visited.sk-estimator-doc-link.fitted {\n",
       "  /* fitted */\n",
       "  border: var(--sklearn-color-fitted-level-1) 1pt solid;\n",
       "  color: var(--sklearn-color-fitted-level-1);\n",
       "}\n",
       "\n",
       "/* On hover */\n",
       "div.sk-estimator:hover .sk-estimator-doc-link:hover,\n",
       ".sk-estimator-doc-link:hover,\n",
       "div.sk-label-container:hover .sk-estimator-doc-link:hover,\n",
       ".sk-estimator-doc-link:hover {\n",
       "  /* unfitted */\n",
       "  background-color: var(--sklearn-color-unfitted-level-3);\n",
       "  color: var(--sklearn-color-background);\n",
       "  text-decoration: none;\n",
       "}\n",
       "\n",
       "div.sk-estimator.fitted:hover .sk-estimator-doc-link.fitted:hover,\n",
       ".sk-estimator-doc-link.fitted:hover,\n",
       "div.sk-label-container:hover .sk-estimator-doc-link.fitted:hover,\n",
       ".sk-estimator-doc-link.fitted:hover {\n",
       "  /* fitted */\n",
       "  background-color: var(--sklearn-color-fitted-level-3);\n",
       "  color: var(--sklearn-color-background);\n",
       "  text-decoration: none;\n",
       "}\n",
       "\n",
       "/* Span, style for the box shown on hovering the info icon */\n",
       ".sk-estimator-doc-link span {\n",
       "  display: none;\n",
       "  z-index: 9999;\n",
       "  position: relative;\n",
       "  font-weight: normal;\n",
       "  right: .2ex;\n",
       "  padding: .5ex;\n",
       "  margin: .5ex;\n",
       "  width: min-content;\n",
       "  min-width: 20ex;\n",
       "  max-width: 50ex;\n",
       "  color: var(--sklearn-color-text);\n",
       "  box-shadow: 2pt 2pt 4pt #999;\n",
       "  /* unfitted */\n",
       "  background: var(--sklearn-color-unfitted-level-0);\n",
       "  border: .5pt solid var(--sklearn-color-unfitted-level-3);\n",
       "}\n",
       "\n",
       ".sk-estimator-doc-link.fitted span {\n",
       "  /* fitted */\n",
       "  background: var(--sklearn-color-fitted-level-0);\n",
       "  border: var(--sklearn-color-fitted-level-3);\n",
       "}\n",
       "\n",
       ".sk-estimator-doc-link:hover span {\n",
       "  display: block;\n",
       "}\n",
       "\n",
       "/* \"?\"-specific style due to the `<a>` HTML tag */\n",
       "\n",
       "#sk-container-id-1 a.estimator_doc_link {\n",
       "  float: right;\n",
       "  font-size: 1rem;\n",
       "  line-height: 1em;\n",
       "  font-family: monospace;\n",
       "  background-color: var(--sklearn-color-background);\n",
       "  border-radius: 1rem;\n",
       "  height: 1rem;\n",
       "  width: 1rem;\n",
       "  text-decoration: none;\n",
       "  /* unfitted */\n",
       "  color: var(--sklearn-color-unfitted-level-1);\n",
       "  border: var(--sklearn-color-unfitted-level-1) 1pt solid;\n",
       "}\n",
       "\n",
       "#sk-container-id-1 a.estimator_doc_link.fitted {\n",
       "  /* fitted */\n",
       "  border: var(--sklearn-color-fitted-level-1) 1pt solid;\n",
       "  color: var(--sklearn-color-fitted-level-1);\n",
       "}\n",
       "\n",
       "/* On hover */\n",
       "#sk-container-id-1 a.estimator_doc_link:hover {\n",
       "  /* unfitted */\n",
       "  background-color: var(--sklearn-color-unfitted-level-3);\n",
       "  color: var(--sklearn-color-background);\n",
       "  text-decoration: none;\n",
       "}\n",
       "\n",
       "#sk-container-id-1 a.estimator_doc_link.fitted:hover {\n",
       "  /* fitted */\n",
       "  background-color: var(--sklearn-color-fitted-level-3);\n",
       "}\n",
       "</style><div id=\"sk-container-id-1\" class=\"sk-top-container\"><div class=\"sk-text-repr-fallback\"><pre>KNeighborsClassifier()</pre><b>In a Jupyter environment, please rerun this cell to show the HTML representation or trust the notebook. <br />On GitHub, the HTML representation is unable to render, please try loading this page with nbviewer.org.</b></div><div class=\"sk-container\" hidden><div class=\"sk-item\"><div class=\"sk-estimator fitted sk-toggleable\"><input class=\"sk-toggleable__control sk-hidden--visually\" id=\"sk-estimator-id-1\" type=\"checkbox\" checked><label for=\"sk-estimator-id-1\" class=\"sk-toggleable__label fitted sk-toggleable__label-arrow fitted\">&nbsp;&nbsp;KNeighborsClassifier<a class=\"sk-estimator-doc-link fitted\" rel=\"noreferrer\" target=\"_blank\" href=\"https://scikit-learn.org/1.5/modules/generated/sklearn.neighbors.KNeighborsClassifier.html\">?<span>Documentation for KNeighborsClassifier</span></a><span class=\"sk-estimator-doc-link fitted\">i<span>Fitted</span></span></label><div class=\"sk-toggleable__content fitted\"><pre>KNeighborsClassifier()</pre></div> </div></div></div></div>"
      ],
      "text/plain": [
       "KNeighborsClassifier()"
      ]
     },
     "execution_count": 16,
     "metadata": {},
     "output_type": "execute_result"
    }
   ],
   "source": [
    "classifier = KNeighborsClassifier(n_neighbors = K)\n",
    "classifier.fit(X_train, Y_train)"
   ]
  },
  {
   "cell_type": "markdown",
   "id": "c9abb24d",
   "metadata": {
    "id": "c9abb24d"
   },
   "source": [
    "## Prediction"
   ]
  },
  {
   "cell_type": "code",
   "execution_count": 17,
   "id": "bd51c81f",
   "metadata": {
    "executionInfo": {
     "elapsed": 22,
     "status": "ok",
     "timestamp": 1728219971314,
     "user": {
      "displayName": "Luis Anton Imperial",
      "userId": "11563317455878916196"
     },
     "user_tz": -480
    },
    "id": "bd51c81f"
   },
   "outputs": [],
   "source": [
    "import numpy as np"
   ]
  },
  {
   "cell_type": "code",
   "execution_count": 20,
   "id": "a2595100",
   "metadata": {
    "colab": {
     "base_uri": "https://localhost:8080/"
    },
    "executionInfo": {
     "elapsed": 526,
     "status": "ok",
     "timestamp": 1728220078135,
     "user": {
      "displayName": "Luis Anton Imperial",
      "userId": "11563317455878916196"
     },
     "user_tz": -480
    },
    "id": "a2595100",
    "outputId": "d09a15d4-03c1-4116-b242-2e7e7a35eb71"
   },
   "outputs": [
    {
     "name": "stdout",
     "output_type": "stream",
     "text": [
      "     Actual  Predicted\n",
      "114       2          2\n",
      "62        1          1\n",
      "33        0          0\n",
      "107       2          2\n",
      "7         0          0\n",
      "100       2          2\n",
      "40        0          0\n",
      "86        1          1\n",
      "76        1          1\n",
      "71        1          1\n",
      "134       2          2\n",
      "51        1          1\n",
      "73        1          1\n",
      "54        1          1\n",
      "63        1          1\n",
      "37        0          0\n",
      "78        1          1\n",
      "90        1          1\n",
      "45        0          0\n",
      "16        0          0\n",
      "121       2          2\n",
      "66        1          1\n",
      "24        0          0\n",
      "8         0          0\n",
      "126       2          2\n",
      "22        0          0\n",
      "44        0          0\n",
      "97        1          1\n",
      "93        1          1\n",
      "26        0          0\n",
      "137       2          2\n",
      "84        1          1\n",
      "27        0          0\n",
      "127       2          2\n",
      "132       2          2\n",
      "59        1          1\n",
      "18        0          0\n",
      "83        1          2\n"
     ]
    }
   ],
   "source": [
    "# Predicting the data set\n",
    "Y_pred = classifier.predict(X_test)\n",
    "\n",
    "comparison_df = pd.DataFrame({'Actual': Y_test, 'Predicted': Y_pred})\n",
    "print(comparison_df)"
   ]
  },
  {
   "cell_type": "markdown",
   "id": "67f52b84",
   "metadata": {
    "id": "67f52b84"
   },
   "source": [
    "## Model Evaluation"
   ]
  },
  {
   "cell_type": "code",
   "execution_count": 22,
   "id": "a7854d74",
   "metadata": {
    "colab": {
     "base_uri": "https://localhost:8080/"
    },
    "executionInfo": {
     "elapsed": 385,
     "status": "ok",
     "timestamp": 1728220185286,
     "user": {
      "displayName": "Luis Anton Imperial",
      "userId": "11563317455878916196"
     },
     "user_tz": -480
    },
    "id": "a7854d74",
    "outputId": "6d46d76f-d095-4ad6-8cb5-e367ede4ddb8"
   },
   "outputs": [
    {
     "name": "stdout",
     "output_type": "stream",
     "text": [
      "[[13  0  0]\n",
      " [ 0 15  1]\n",
      " [ 0  0  9]]\n",
      "\n",
      "Accuracy:  0.9736842105263158\n",
      "Precision:  0.9736842105263158\n",
      "Recall:  0.9736842105263158\n",
      "F-1:  0.9736842105263158\n"
     ]
    }
   ],
   "source": [
    "from sklearn.metrics import confusion_matrix, accuracy_score, precision_score, recall_score, f1_score\n",
    "\n",
    "cm = confusion_matrix(Y_test, Y_pred)\n",
    "print(cm)\n",
    "\n",
    "print(\"\")\n",
    "print(\"Accuracy: \", accuracy_score(Y_test, Y_pred))\n",
    "print(\"Precision: \", precision_score(Y_test, Y_pred, average = 'micro'))\n",
    "print(\"Recall: \", recall_score(Y_test, Y_pred, average = 'micro'))\n",
    "print(\"F-1: \", f1_score(Y_test, Y_pred, average = 'micro'))"
   ]
  },
  {
   "cell_type": "markdown",
   "id": "abd28404",
   "metadata": {
    "id": "abd28404"
   },
   "source": [
    "## Experiment With K Values: `K = 5, 10, 15, 20, 25`"
   ]
  },
  {
   "cell_type": "code",
   "execution_count": 24,
   "id": "Am-2yLAd81VD",
   "metadata": {
    "colab": {
     "base_uri": "https://localhost:8080/"
    },
    "executionInfo": {
     "elapsed": 434,
     "status": "ok",
     "timestamp": 1728220284168,
     "user": {
      "displayName": "Luis Anton Imperial",
      "userId": "11563317455878916196"
     },
     "user_tz": -480
    },
    "id": "Am-2yLAd81VD",
    "outputId": "f32c6d3d-e976-4bfe-e68c-e9d45c8e7621"
   },
   "outputs": [
    {
     "name": "stdout",
     "output_type": "stream",
     "text": [
      "K =  5\n",
      "Accuracy:  0.9736842105263158\n",
      "Precision:  0.9736842105263158\n",
      "Recall:  0.9736842105263158\n",
      "F-1:  0.9736842105263158\n",
      "\n",
      "K =  10\n",
      "Accuracy:  0.9736842105263158\n",
      "Precision:  0.9736842105263158\n",
      "Recall:  0.9736842105263158\n",
      "F-1:  0.9736842105263158\n",
      "\n",
      "K =  15\n",
      "Accuracy:  0.9736842105263158\n",
      "Precision:  0.9736842105263158\n",
      "Recall:  0.9736842105263158\n",
      "F-1:  0.9736842105263158\n",
      "\n",
      "K =  20\n",
      "Accuracy:  0.9473684210526315\n",
      "Precision:  0.9473684210526315\n",
      "Recall:  0.9473684210526315\n",
      "F-1:  0.9473684210526315\n",
      "\n",
      "K =  25\n",
      "Accuracy:  0.9210526315789473\n",
      "Precision:  0.9210526315789473\n",
      "Recall:  0.9210526315789473\n",
      "F-1:  0.9210526315789473\n",
      "\n"
     ]
    }
   ],
   "source": [
    "other_K = [5, 10, 15, 20, 25]\n",
    "\n",
    "for k in other_K:\n",
    "  classifier = KNeighborsClassifier(n_neighbors = k)\n",
    "  classifier.fit(X_train, Y_train)\n",
    "  Y_pred = classifier.predict(X_test)\n",
    "  print(\"K = \", k)\n",
    "  print(\"Accuracy: \", accuracy_score(Y_test, Y_pred))\n",
    "  print(\"Precision: \", precision_score(Y_test, Y_pred, average = 'micro'))\n",
    "  print(\"Recall: \", recall_score(Y_test, Y_pred, average = 'micro'))\n",
    "  print(\"F-1: \", f1_score(Y_test, Y_pred, average = 'micro'))\n",
    "  print(\"\")"
   ]
  },
  {
   "cell_type": "markdown",
   "id": "0c42b680",
   "metadata": {
    "id": "0c42b680"
   },
   "source": [
    "## Interpretation, Observation, Results and Discussion\n",
    "\n",
    "### The Source Data Set\n",
    "The Iris flower data set was used by “the father of modern statistical science,” Ronald Fisher from London, England, to discuss *the use of multiple measurements in taxonomic problems*.\n",
    "\n",
    "It contains different observations of three different species of the Iris flower, which grows in temperate regions in Europe, Asia and North America.\n",
    "\n",
    "The data set is often used in discussion and education of machine learning as a concept, which is why popular Python package SciKit Learn includes it in its list of sample datasets. (Notice that I was able to simply gather the dataset by importing the `datasets` class from `scikit-learn`.)\n",
    "\n",
    "### Observing the K Values\n",
    "\n",
    "**K** is a value to determine the classification of an object, based on which objects have the most in common with them.\n",
    "\n",
    "Let's take a look at how these different K values fared."
   ]
  },
  {
   "cell_type": "markdown",
   "id": "syotr9RPBNSK",
   "metadata": {
    "id": "syotr9RPBNSK"
   },
   "source": [
    "#### Observing the K Values as a Line Chart"
   ]
  },
  {
   "cell_type": "code",
   "execution_count": 25,
   "id": "Mq7_iZgDA_8s",
   "metadata": {
    "colab": {
     "base_uri": "https://localhost:8080/",
     "height": 564
    },
    "executionInfo": {
     "elapsed": 1278,
     "status": "ok",
     "timestamp": 1728221296907,
     "user": {
      "displayName": "Luis Anton Imperial",
      "userId": "11563317455878916196"
     },
     "user_tz": -480
    },
    "id": "Mq7_iZgDA_8s",
    "outputId": "d5485d80-0454-443f-ee14-17754a6d2e9c"
   },
   "outputs": [
    {
     "data": {
      "image/png": "[encoded data removed]",
      "text/plain": [
       "<Figure size 1200x600 with 1 Axes>"
      ]
     },
     "metadata": {},
     "output_type": "display_data"
    }
   ],
   "source": [
    "k_values = [5, 10, 15, 20, 25]\n",
    "accuracies = [0.9737, 0.9737, 0.9737, 0.9474, 0.9211]\n",
    "precisions = [0.9737, 0.9737, 0.9737, 0.9474, 0.9211]\n",
    "recalls = [0.9737, 0.9737, 0.9737, 0.9474, 0.9211]\n",
    "f1_scores = [0.9737, 0.9737, 0.9737, 0.9474, 0.9211]\n",
    "\n",
    "plt.figure(figsize=(12, 6))\n",
    "plt.plot(k_values, accuracies, marker='o', label='Accuracy')\n",
    "plt.plot(k_values, precisions, marker='o', label='Precision')\n",
    "plt.plot(k_values, recalls, marker='o', label='Recall')\n",
    "plt.plot(k_values, f1_scores, marker='o', label='F1 Score')\n",
    "plt.title('Model Performance Metrics vs K Value')\n",
    "plt.xlabel('K Value')\n",
    "plt.ylabel('Score')\n",
    "plt.xticks(k_values)\n",
    "plt.ylim(0, 1)\n",
    "plt.grid()\n",
    "plt.legend()\n",
    "plt.show()"
   ]
  },
  {
   "cell_type": "markdown",
   "id": "jBjrbmbhBRPE",
   "metadata": {
    "id": "jBjrbmbhBRPE"
   },
   "source": [
    "#### Observing the K Values as a Heatmap"
   ]
  },
  {
   "cell_type": "code",
   "execution_count": 27,
   "id": "W8DIqoeeBMMq",
   "metadata": {
    "executionInfo": {
     "elapsed": 859,
     "status": "ok",
     "timestamp": 1728221375126,
     "user": {
      "displayName": "Luis Anton Imperial",
      "userId": "11563317455878916196"
     },
     "user_tz": -480
    },
    "id": "W8DIqoeeBMMq"
   },
   "outputs": [],
   "source": [
    "import seaborn as sns"
   ]
  },
  {
   "cell_type": "code",
   "execution_count": 28,
   "id": "O3lqRyvDBIkV",
   "metadata": {
    "colab": {
     "base_uri": "https://localhost:8080/",
     "height": 545
    },
    "executionInfo": {
     "elapsed": 734,
     "status": "ok",
     "timestamp": 1728221377311,
     "user": {
      "displayName": "Luis Anton Imperial",
      "userId": "11563317455878916196"
     },
     "user_tz": -480
    },
    "id": "O3lqRyvDBIkV",
    "outputId": "f98f69bf-319b-45b5-c26f-6620bf5782cf"
   },
   "outputs": [
    {
     "data": {
      "image/png": "[encoded data removed]",
      "text/plain": [
       "<Figure size 1000x600 with 2 Axes>"
      ]
     },
     "metadata": {},
     "output_type": "display_data"
    }
   ],
   "source": [
    "data = {\n",
    "    'K': k_values,\n",
    "    'Accuracy': accuracies,\n",
    "    'Precision': precisions,\n",
    "    'Recall': recalls,\n",
    "    'F1 Score': f1_scores,\n",
    "}\n",
    "df = pd.DataFrame(data)\n",
    "\n",
    "plt.figure(figsize=(10, 6))\n",
    "sns.heatmap(df.set_index('K'), annot=True, cmap='YlGnBu', fmt=\".4f\")\n",
    "plt.title('Performance Metrics Heatmap')\n",
    "plt.ylabel('K Value')\n",
    "plt.show()"
   ]
  },
  {
   "cell_type": "markdown",
   "id": "633CTeLXBY-I",
   "metadata": {
    "id": "633CTeLXBY-I"
   },
   "source": [
    "#### The K Values and their Results in a Table"
   ]
  },
  {
   "cell_type": "code",
   "execution_count": 29,
   "id": "RfOH78TGBbqg",
   "metadata": {
    "colab": {
     "base_uri": "https://localhost:8080/"
    },
    "executionInfo": {
     "elapsed": 433,
     "status": "ok",
     "timestamp": 1728221398289,
     "user": {
      "displayName": "Luis Anton Imperial",
      "userId": "11563317455878916196"
     },
     "user_tz": -480
    },
    "id": "RfOH78TGBbqg",
    "outputId": "72ff13e4-c49c-4a8e-ee4b-543b9849d886"
   },
   "outputs": [
    {
     "name": "stdout",
     "output_type": "stream",
     "text": [
      "    K  Accuracy  Precision  Recall  F1 Score\n",
      "0   5    0.9737     0.9737  0.9737    0.9737\n",
      "1  10    0.9737     0.9737  0.9737    0.9737\n",
      "2  15    0.9737     0.9737  0.9737    0.9737\n",
      "3  20    0.9474     0.9474  0.9474    0.9474\n",
      "4  25    0.9211     0.9211  0.9211    0.9211\n"
     ]
    }
   ],
   "source": [
    "print(df)"
   ]
  },
  {
   "cell_type": "markdown",
   "id": "dJAYQwLGBc0S",
   "metadata": {
    "id": "dJAYQwLGBc0S"
   },
   "source": [
    "### Results and Discussion\n",
    "\n",
    "I noticed that the higher the *k*-value from the default of 5, the worse the metrics came to be. The first three *k* values suggested by our instructor, College of Information and Computer Studies (CICS) Associate Dean Rolando B. Barrameda, led to identical results, but a *k* value somewhere between `15` and `20` started the downfall in accuracy score.\n",
    "\n",
    "I believe this is because of the limitations of underfitting the data, such that it is overemphasizing objects that end up as not actually similar enough to each species being analyzed.\n",
    "\n",
    "The Iris data set is too small for higher *k* values. It has 150 instances of flowers, and that was split based on a ratio of 75% to 25%. A prediction based on 15 nearest neighbors is one that already encompasses more than 13% of the training set.\n",
    "\n",
    "Ultimately, for smaller datasets like these, the default setting worked the best."
   ]
  }
 ],
 "metadata": {
  "colab": {
   "provenance": []
  },
  "kernelspec": {
   "display_name": "Python 3 (ipykernel)",
   "language": "python",
   "name": "python3"
  },
  "language_info": {
   "codemirror_mode": {
    "name": "ipython",
    "version": 3
   },
   "file_extension": ".py",
   "mimetype": "text/x-python",
   "name": "python",
   "nbconvert_exporter": "python",
   "pygments_lexer": "ipython3",
   "version": "3.10.11"
  }
 },
 "nbformat": 4,
 "nbformat_minor": 5
}
